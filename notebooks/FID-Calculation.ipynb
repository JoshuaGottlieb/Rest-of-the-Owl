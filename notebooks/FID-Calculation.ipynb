{
  "nbformat": 4,
  "nbformat_minor": 0,
  "metadata": {
    "colab": {
      "provenance": [],
      "machine_shape": "hm",
      "authorship_tag": "ABX9TyNhI07VovpyvTxOAcB98srC",
      "include_colab_link": true
    },
    "kernelspec": {
      "name": "python3",
      "display_name": "Python 3"
    },
    "language_info": {
      "name": "python"
    },
    "gpuClass": "premium",
    "accelerator": "GPU"
  },
  "cells": [
    {
      "cell_type": "markdown",
      "metadata": {
        "id": "view-in-github",
        "colab_type": "text"
      },
      "source": [
        "<a href=\"https://colab.research.google.com/github/JoshuaGottlieb/Rest-of-the-Owl/blob/main/notebooks/FID_Calculation.ipynb\" target=\"_parent\"><img src=\"https://colab.research.google.com/assets/colab-badge.svg\" alt=\"Open In Colab\"/></a>"
      ]
    },
    {
      "cell_type": "markdown",
      "source": [
        "## Import Libraries"
      ],
      "metadata": {
        "id": "F2xJlihzeaV9"
      }
    },
    {
      "cell_type": "code",
      "execution_count": null,
      "metadata": {
        "id": "kDu-h_Fp1tsX"
      },
      "outputs": [],
      "source": [
        "import tensorflow as tf\n",
        "import numpy as np\n",
        "from google.colab import drive\n",
        "drive.mount('/content/gdrive', force_remount = True) # Mount drive to access python modules\n",
        "base_path = '/content/gdrive/MyDrive/Rest_of_the_Owl_Project_Data' # Declare base path of repository\n",
        "!pip install difPy # Install necessary packages to use relative imports from python modules\n",
        "!cp -r /content/gdrive/MyDrive/Rest_of_the_Owl_Project_Data/src /content # Mount python module base directory\n",
        "import src.model_analysis.fid as fid"
      ]
    },
    {
      "cell_type": "markdown",
      "source": [
        "## Calculate FID Scores"
      ],
      "metadata": {
        "id": "4Iim9TWwhCIr"
      }
    },
    {
      "cell_type": "code",
      "source": [
        "epochs = np.arange(10, 210, 10)\n",
        "models = ['pix2pix', 'autopainter']\n",
        "\n",
        "train_image_dir = f'{base_path}/data/train/*.jpg'\n",
        "\n",
        "\n",
        "fid.calculate_fid_for_epoch_and_model(train_image_dir, models, epochs, train_size = 1905, base_path = base_path, save = True)"
      ],
      "metadata": {
        "id": "Q0U_cf_E2W7C"
      },
      "execution_count": null,
      "outputs": []
    },
    {
      "cell_type": "code",
      "source": [
        "from google.colab import runtime\n",
        "runtime.unassign()"
      ],
      "metadata": {
        "id": "gqbCjmDr2W-K"
      },
      "execution_count": null,
      "outputs": []
    }
  ]
}