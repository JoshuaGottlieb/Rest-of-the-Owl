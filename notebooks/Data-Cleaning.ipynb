{
 "cells": [
  {
   "cell_type": "markdown",
   "id": "a4c75857",
   "metadata": {},
   "source": [
    "## Import Functions"
   ]
  },
  {
   "cell_type": "code",
   "execution_count": null,
   "id": "d4bfc5e0",
   "metadata": {},
   "outputs": [],
   "source": [
    "import src.preprocessing as prep"
   ]
  },
  {
   "cell_type": "markdown",
   "id": "d66d66c9",
   "metadata": {},
   "source": [
    "## Move Good Images to data/raw"
   ]
  },
  {
   "cell_type": "code",
   "execution_count": null,
   "id": "2b622c52",
   "metadata": {
    "scrolled": false
   },
   "outputs": [],
   "source": [
    "directory = '../data/raw/adobe_drawings'\n",
    "prep.remove_bad_pictures(directory)"
   ]
  },
  {
   "cell_type": "code",
   "execution_count": null,
   "id": "497860b3",
   "metadata": {},
   "outputs": [],
   "source": [
    "directory = '../data/raw/vectorstock'\n",
    "prep.remove_bad_pictures(directory, good = True)"
   ]
  },
  {
   "cell_type": "code",
   "execution_count": null,
   "id": "ff222a81",
   "metadata": {},
   "outputs": [],
   "source": [
    "directory = '../data/raw/adobe_sketch'\n",
    "prep.remove_bad_pictures(directory, good = True)"
   ]
  },
  {
   "cell_type": "code",
   "execution_count": null,
   "id": "7a12039f",
   "metadata": {},
   "outputs": [],
   "source": [
    "directory = '../data/raw/fineartamerica_digital'\n",
    "prep.remove_bad_pictures(directory, good = True)"
   ]
  },
  {
   "cell_type": "code",
   "execution_count": null,
   "id": "48a34c81",
   "metadata": {},
   "outputs": [],
   "source": [
    "directory = '../data/raw/fineartamerica_drawings'\n",
    "prep.remove_bad_pictures(directory, good = True)"
   ]
  },
  {
   "cell_type": "code",
   "execution_count": null,
   "id": "30399743",
   "metadata": {},
   "outputs": [],
   "source": [
    "directory = '../data/raw/fineartamerica_paintings'\n",
    "prep.remove_bad_pictures(directory, good = True)"
   ]
  },
  {
   "cell_type": "markdown",
   "id": "4dfe3415",
   "metadata": {},
   "source": [
    "## Remove Watermarks"
   ]
  },
  {
   "cell_type": "code",
   "execution_count": null,
   "id": "11ed7b27",
   "metadata": {},
   "outputs": [],
   "source": [
    "directory = '../data/raw/actual_owls/named'\n",
    "prep.crop_fineart_watermarks(directory)"
   ]
  },
  {
   "cell_type": "markdown",
   "id": "0d117dbe",
   "metadata": {},
   "source": [
    "## Rename Files"
   ]
  },
  {
   "cell_type": "code",
   "execution_count": null,
   "id": "6aa4a218",
   "metadata": {},
   "outputs": [],
   "source": [
    "prep.rename_owl_files('../data/raw/actual_owls/unaltered/')"
   ]
  },
  {
   "cell_type": "markdown",
   "id": "9beeb1f0",
   "metadata": {},
   "source": [
    "## Convert to Grayscale"
   ]
  },
  {
   "cell_type": "code",
   "execution_count": null,
   "id": "addcc837",
   "metadata": {},
   "outputs": [],
   "source": [
    "init_dir = '../data/raw/actual_owls/unaltered'\n",
    "end_dir = '../data/raw/actual_owls/grayscale'\n",
    "prep.convert_to_grayscale(init_dir, end_dir)"
   ]
  },
  {
   "cell_type": "markdown",
   "id": "8b396d54",
   "metadata": {},
   "source": [
    "## Invert Images"
   ]
  },
  {
   "cell_type": "code",
   "execution_count": null,
   "id": "d3a2a76e",
   "metadata": {},
   "outputs": [],
   "source": [
    "init_dir = '../data/raw/actual_owls/resized'\n",
    "end_dir = '../data/raw/actual_owls/inverted'\n",
    "prep.invert_images(init_dir, end_dir)"
   ]
  },
  {
   "cell_type": "markdown",
   "id": "4bef95fa",
   "metadata": {},
   "source": [
    "## Create Sketches"
   ]
  },
  {
   "cell_type": "code",
   "execution_count": null,
   "id": "15786f11",
   "metadata": {
    "scrolled": true
   },
   "outputs": [],
   "source": [
    "directory = '../data/raw/actual_owls/grayscale'\n",
    "prep.create_sketches(directory, dest_tail = 'regular')"
   ]
  },
  {
   "cell_type": "code",
   "execution_count": null,
   "id": "3767cb1e",
   "metadata": {},
   "outputs": [],
   "source": [
    "directory = '../data/raw/actual_owls/inverted'\n",
    "prep.create_sketches(directory, dest_tail = 'inverted')"
   ]
  },
  {
   "cell_type": "markdown",
   "id": "78355713",
   "metadata": {},
   "source": [
    "## Filter Sketches and Select Between Regular and Inverted"
   ]
  },
  {
   "cell_type": "code",
   "execution_count": null,
   "id": "107c3549",
   "metadata": {},
   "outputs": [],
   "source": [
    "sketch_directories = ['../data/raw/actual_owls/sketched/regular', '../data/raw/actual_owls/sketched/inverted']\n",
    "image_directories = ['../data/raw/actual_owls/grayscale', '../data/raw/actual_owls/inverted']\n",
    "log_files = ['../data/raw/actual_owls/sketched/regular_sketch_info.txt',\n",
    "             '../data/raw/actual_owls/sketched/inverted_sketch_info.txt']\n",
    "prep.select_images_and_sketches(sketch_directories, image_directories, log_files)"
   ]
  },
  {
   "cell_type": "markdown",
   "id": "2f6be858",
   "metadata": {},
   "source": [
    "## Remove Duplicates"
   ]
  },
  {
   "cell_type": "code",
   "execution_count": null,
   "id": "9b8642d0",
   "metadata": {},
   "outputs": [],
   "source": [
    "image_dir = '../data/raw/actual_owls/selected'\n",
    "sketch_dir = '../data/raw/actual_owls/sketched/selected'\n",
    "prep.remove_duplicates(image_dir, sketch_dir, recheck = True)"
   ]
  },
  {
   "cell_type": "markdown",
   "id": "0cfab1d6",
   "metadata": {},
   "source": [
    "## Resize Images and Sketches"
   ]
  },
  {
   "cell_type": "code",
   "execution_count": null,
   "id": "8edb8b33",
   "metadata": {},
   "outputs": [],
   "source": [
    "directory = '../data/raw/actual_owls/no_duplicates'\n",
    "prep.resize_images(directory, (256, 256))"
   ]
  },
  {
   "cell_type": "code",
   "execution_count": null,
   "id": "82b0fece",
   "metadata": {},
   "outputs": [],
   "source": [
    "directory = '../data/raw/actual_owls/sketched/no_duplicates'\n",
    "prep.resize_sketches(directory, (256, 256))"
   ]
  },
  {
   "cell_type": "markdown",
   "id": "4d242179",
   "metadata": {},
   "source": [
    "## Train-Test Split"
   ]
  },
  {
   "cell_type": "code",
   "execution_count": null,
   "id": "30939ff2",
   "metadata": {},
   "outputs": [],
   "source": [
    "prep.create_train_test_split(test_size = 0.2, random_state = 42)"
   ]
  }
 ],
 "metadata": {
  "kernelspec": {
   "display_name": "Python (learn-env)",
   "language": "python",
   "name": "learn-env"
  },
  "language_info": {
   "codemirror_mode": {
    "name": "ipython",
    "version": 3
   },
   "file_extension": ".py",
   "mimetype": "text/x-python",
   "name": "python",
   "nbconvert_exporter": "python",
   "pygments_lexer": "ipython3",
   "version": "3.8.5"
  }
 },
 "nbformat": 4,
 "nbformat_minor": 5
}
