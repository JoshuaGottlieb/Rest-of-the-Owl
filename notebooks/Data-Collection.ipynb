{
 "cells": [
  {
   "cell_type": "markdown",
   "id": "4f3834ca",
   "metadata": {},
   "source": [
    "## Import Functions"
   ]
  },
  {
   "cell_type": "code",
   "execution_count": 1,
   "id": "3b8bc0d1",
   "metadata": {},
   "outputs": [],
   "source": [
    "from src.collection import scrape_vectorstock, scrape_adobe, scrape_fineartamerica"
   ]
  },
  {
   "cell_type": "markdown",
   "id": "de225d74",
   "metadata": {},
   "source": [
    "## Scrape Vectorstock"
   ]
  },
  {
   "cell_type": "code",
   "execution_count": 5,
   "id": "37348fe5",
   "metadata": {
    "scrolled": true
   },
   "outputs": [],
   "source": [
    "directory = '../data/raw/vectorstock'\n",
    "scrape_vectorstock(directory, 1, 21)"
   ]
  },
  {
   "cell_type": "code",
   "execution_count": 6,
   "id": "b44da659",
   "metadata": {},
   "outputs": [],
   "source": [
    "directory = '../data/raw/vectorstock'\n",
    "scrape_vectorstock(directory, 22, 41)"
   ]
  },
  {
   "cell_type": "markdown",
   "id": "634fc23f",
   "metadata": {},
   "source": [
    "## Scrape Adobe"
   ]
  },
  {
   "cell_type": "code",
   "execution_count": 7,
   "id": "7547e108",
   "metadata": {
    "scrolled": true
   },
   "outputs": [],
   "source": [
    "directory = '../data/raw/adobe_sketch'\n",
    "subcategory = 'sketch'\n",
    "subcategory_title = 'Sketch'\n",
    "scrape_adobe(directory, 1, 50, subcategory, subcategory_title)"
   ]
  },
  {
   "cell_type": "code",
   "execution_count": 8,
   "id": "55ac36dd",
   "metadata": {},
   "outputs": [],
   "source": [
    "directory = '../data/raw/adobe_sketch'\n",
    "subcategory = 'sketch'\n",
    "subcategory_title = 'Sketch'\n",
    "scrape_adobe(directory, 51, 100, subcategory, subcategory_title)"
   ]
  },
  {
   "cell_type": "code",
   "execution_count": 9,
   "id": "445dc846",
   "metadata": {},
   "outputs": [],
   "source": [
    "directory = '../data/raw/adobe_drawings'\n",
    "subcategory = 'drawing'\n",
    "subcategory_title = 'Drawings'\n",
    "scrape_adobe(directory, 1, 50, subcategory, subcategory_title)"
   ]
  },
  {
   "cell_type": "code",
   "execution_count": 10,
   "id": "cef56aaa",
   "metadata": {},
   "outputs": [],
   "source": [
    "directory = '../data/raw/adobe_drawings'\n",
    "subcategory = 'drawing'\n",
    "subcategory_title = 'Drawings'\n",
    "scrape_adobe(directory, 51, 100, subcategory, subcategory_title)"
   ]
  },
  {
   "cell_type": "markdown",
   "id": "fbaa9532",
   "metadata": {},
   "source": [
    "## Scrape Fine Art America"
   ]
  },
  {
   "cell_type": "code",
   "execution_count": 11,
   "id": "0431a26e",
   "metadata": {
    "scrolled": true
   },
   "outputs": [],
   "source": [
    "directory = '../data/raw/fineartamerica_drawings'\n",
    "subcategory_url = 'drawings'\n",
    "subcategory_title = 'Drawings'\n",
    "scrape_fineartamerica(directory, 1, 35, subcategory_url, subcategory_title)"
   ]
  },
  {
   "cell_type": "code",
   "execution_count": 12,
   "id": "84b4c80c",
   "metadata": {},
   "outputs": [],
   "source": [
    "directory = '../data/raw/fineartamerica_digital'\n",
    "subcategory_url = 'digital+art'\n",
    "subcategory_title = 'Digital'\n",
    "scrape_fineartamerica(directory, 1, 35, subcategory_url, subcategory_title)"
   ]
  },
  {
   "cell_type": "code",
   "execution_count": 13,
   "id": "c1e5a9e1",
   "metadata": {},
   "outputs": [],
   "source": [
    "directory = '../data/raw/fineartamerica_paintings'\n",
    "subcategory_url = 'paintings'\n",
    "subcategory_title = 'Paintings'\n",
    "scrape_fineartamerica(directory, 1, 35, subcategory_url, subcategory_title)"
   ]
  }
 ],
 "metadata": {
  "kernelspec": {
   "display_name": "Python (learn-env)",
   "language": "python",
   "name": "learn-env"
  },
  "language_info": {
   "codemirror_mode": {
    "name": "ipython",
    "version": 3
   },
   "file_extension": ".py",
   "mimetype": "text/x-python",
   "name": "python",
   "nbconvert_exporter": "python",
   "pygments_lexer": "ipython3",
   "version": "3.8.5"
  }
 },
 "nbformat": 4,
 "nbformat_minor": 5
}
