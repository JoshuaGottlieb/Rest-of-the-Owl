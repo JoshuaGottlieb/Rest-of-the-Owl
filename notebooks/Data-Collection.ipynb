{
 "cells": [
  {
   "cell_type": "markdown",
   "id": "8a99a5c5",
   "metadata": {},
   "source": [
    "## Import Functions"
   ]
  },
  {
   "cell_type": "code",
   "execution_count": null,
   "id": "fdc90bb5",
   "metadata": {},
   "outputs": [],
   "source": [
    "import src.scraping as scraping"
   ]
  },
  {
   "cell_type": "markdown",
   "id": "27cd6899",
   "metadata": {},
   "source": [
    "## Scrape Vectorstock"
   ]
  },
  {
   "cell_type": "code",
   "execution_count": null,
   "id": "6b0dca5e",
   "metadata": {
    "scrolled": true
   },
   "outputs": [],
   "source": [
    "directory = '../data/raw/vectorstock'\n",
    "scraping.scrape_vectorstock(directory, 1, 21)"
   ]
  },
  {
   "cell_type": "code",
   "execution_count": null,
   "id": "2d0cee82",
   "metadata": {},
   "outputs": [],
   "source": [
    "directory = '../data/raw/vectorstock'\n",
    "scraping.scrape_vectorstock(directory, 22, 41)"
   ]
  },
  {
   "cell_type": "markdown",
   "id": "27dd0744",
   "metadata": {},
   "source": [
    "## Scrape Adobe"
   ]
  },
  {
   "cell_type": "code",
   "execution_count": null,
   "id": "1cba7ef8",
   "metadata": {
    "scrolled": true
   },
   "outputs": [],
   "source": [
    "directory = '../data/raw/adobe_sketch'\n",
    "subcategory = 'sketch'\n",
    "subcategory_title = 'Sketch'\n",
    "scraping.scrape_adobe(directory, 1, 50, subcategory, subcategory_title)"
   ]
  },
  {
   "cell_type": "code",
   "execution_count": null,
   "id": "1bd8e902",
   "metadata": {},
   "outputs": [],
   "source": [
    "directory = '../data/raw/adobe_sketch'\n",
    "subcategory = 'sketch'\n",
    "subcategory_title = 'Sketch'\n",
    "scraping.scrape_adobe(directory, 51, 100, subcategory, subcategory_title)"
   ]
  },
  {
   "cell_type": "code",
   "execution_count": null,
   "id": "3a2cd301",
   "metadata": {},
   "outputs": [],
   "source": [
    "directory = '../data/raw/adobe_drawings'\n",
    "subcategory = 'drawing'\n",
    "subcategory_title = 'Drawings'\n",
    "scraping.scrape_adobe(directory, 1, 50, subcategory, subcategory_title)"
   ]
  },
  {
   "cell_type": "code",
   "execution_count": null,
   "id": "22f332cb",
   "metadata": {},
   "outputs": [],
   "source": [
    "directory = '../data/raw/adobe_drawings'\n",
    "subcategory = 'drawing'\n",
    "subcategory_title = 'Drawings'\n",
    "scraping.scrape_adobe(directory, 51, 100, subcategory, subcategory_title)"
   ]
  },
  {
   "cell_type": "markdown",
   "id": "d1327a68",
   "metadata": {},
   "source": [
    "## Scrape Fine Art America"
   ]
  },
  {
   "cell_type": "code",
   "execution_count": null,
   "id": "7b5dad8a",
   "metadata": {
    "scrolled": true
   },
   "outputs": [],
   "source": [
    "directory = '../data/raw/fineartamerica_drawings'\n",
    "subcategory_url = 'drawings'\n",
    "subcategory_title = 'Drawings'\n",
    "scraping.scrape_fineartamerica(directory, 1, 35, subcategory_url, subcategory_title)"
   ]
  },
  {
   "cell_type": "code",
   "execution_count": null,
   "id": "d26718e8",
   "metadata": {},
   "outputs": [],
   "source": [
    "directory = '../data/raw/fineartamerica_digital'\n",
    "subcategory_url = 'digital+art'\n",
    "subcategory_title = 'Digital'\n",
    "scraping.scrape_fineartamerica(directory, 1, 35, subcategory_url, subcategory_title)"
   ]
  },
  {
   "cell_type": "code",
   "execution_count": null,
   "id": "fd1e9fb3",
   "metadata": {},
   "outputs": [],
   "source": [
    "directory = '../data/raw/fineartamerica_paintings'\n",
    "subcategory_url = 'paintings'\n",
    "subcategory_title = 'Paintings'\n",
    "scraping.scrape_fineartamerica(directory, 1, 35, subcategory_url, subcategory_title)"
   ]
  }
 ],
 "metadata": {
  "kernelspec": {
   "display_name": "Python (learn-env)",
   "language": "python",
   "name": "learn-env"
  },
  "language_info": {
   "codemirror_mode": {
    "name": "ipython",
    "version": 3
   },
   "file_extension": ".py",
   "mimetype": "text/x-python",
   "name": "python",
   "nbconvert_exporter": "python",
   "pygments_lexer": "ipython3",
   "version": "3.8.5"
  }
 },
 "nbformat": 4,
 "nbformat_minor": 5
}
