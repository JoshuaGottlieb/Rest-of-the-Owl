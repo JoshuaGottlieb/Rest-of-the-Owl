{
 "cells": [
  {
   "cell_type": "code",
   "execution_count": 1,
   "id": "dd1eb86e",
   "metadata": {},
   "outputs": [],
   "source": [
    "from src.collection import scrape_vectorstock, scrape_adobe, scrape_fineartamerica"
   ]
  },
  {
   "cell_type": "code",
   "execution_count": 5,
   "id": "27b4fd06",
   "metadata": {
    "scrolled": true
   },
   "outputs": [],
   "source": [
    "directory = '../data/raw/vectorstock'\n",
    "scrape_vectorstock(directory, 1, 21)"
   ]
  },
  {
   "cell_type": "code",
   "execution_count": 6,
   "id": "562e083f",
   "metadata": {},
   "outputs": [],
   "source": [
    "directory = '../data/raw/vectorstock'\n",
    "scrape_vectorstock(directory, 22, 41)"
   ]
  },
  {
   "cell_type": "code",
   "execution_count": 7,
   "id": "980caf13",
   "metadata": {
    "scrolled": true
   },
   "outputs": [],
   "source": [
    "directory = '../data/raw/adobe_sketch'\n",
    "subcategory = 'sketch'\n",
    "subcategory_title = 'Sketch'\n",
    "scrape_adobe(directory, 1, 50, subcategory, subcategory_title)"
   ]
  },
  {
   "cell_type": "code",
   "execution_count": 8,
   "id": "0bf7be9d",
   "metadata": {},
   "outputs": [],
   "source": [
    "directory = '../data/raw/adobe_sketch'\n",
    "subcategory = 'sketch'\n",
    "subcategory_title = 'Sketch'\n",
    "scrape_adobe(directory, 51, 100, subcategory, subcategory_title)"
   ]
  },
  {
   "cell_type": "code",
   "execution_count": 9,
   "id": "b886a5b5",
   "metadata": {},
   "outputs": [],
   "source": [
    "directory = '../data/raw/adobe_drawings'\n",
    "subcategory = 'drawing'\n",
    "subcategory_title = 'Drawings'\n",
    "scrape_adobe(directory, 1, 50, subcategory, subcategory_title)"
   ]
  },
  {
   "cell_type": "code",
   "execution_count": 10,
   "id": "efb3bbce",
   "metadata": {},
   "outputs": [],
   "source": [
    "directory = '../data/raw/adobe_drawings'\n",
    "subcategory = 'drawing'\n",
    "subcategory_title = 'Drawings'\n",
    "scrape_adobe(directory, 51, 100, subcategory, subcategory_title)"
   ]
  },
  {
   "cell_type": "code",
   "execution_count": 11,
   "id": "2625a5a2",
   "metadata": {
    "scrolled": true
   },
   "outputs": [],
   "source": [
    "directory = '../data/raw/fineartamerica_drawings'\n",
    "subcategory_url = 'drawings'\n",
    "subcategory_title = 'Drawings'\n",
    "scrape_fineartamerica(directory, 1, 35, subcategory_url, subcategory_title)"
   ]
  },
  {
   "cell_type": "code",
   "execution_count": 12,
   "id": "4acf1cbf",
   "metadata": {},
   "outputs": [],
   "source": [
    "directory = '../data/raw/fineartamerica_digital'\n",
    "subcategory_url = 'digital+art'\n",
    "subcategory_title = 'Digital'\n",
    "scrape_fineartamerica(directory, 1, 35, subcategory_url, subcategory_title)"
   ]
  },
  {
   "cell_type": "code",
   "execution_count": 13,
   "id": "d80c39a7",
   "metadata": {},
   "outputs": [],
   "source": [
    "directory = '../data/raw/fineartamerica_paintings'\n",
    "subcategory_url = 'paintings'\n",
    "subcategory_title = 'Paintings'\n",
    "scrape_fineartamerica(directory, 1, 35, subcategory_url, subcategory_title)"
   ]
  }
 ],
 "metadata": {
  "kernelspec": {
   "display_name": "Python (learn-env)",
   "language": "python",
   "name": "learn-env"
  },
  "language_info": {
   "codemirror_mode": {
    "name": "ipython",
    "version": 3
   },
   "file_extension": ".py",
   "mimetype": "text/x-python",
   "name": "python",
   "nbconvert_exporter": "python",
   "pygments_lexer": "ipython3",
   "version": "3.8.5"
  }
 },
 "nbformat": 4,
 "nbformat_minor": 5
}
