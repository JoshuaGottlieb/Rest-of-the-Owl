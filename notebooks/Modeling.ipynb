{
  "nbformat": 4,
  "nbformat_minor": 0,
  "metadata": {
    "colab": {
      "provenance": [],
      "machine_shape": "hm",
      "authorship_tag": "ABX9TyMJmVsl0Ms/W+myjGX0AqDp",
      "include_colab_link": true
    },
    "kernelspec": {
      "name": "python3",
      "display_name": "Python 3"
    },
    "language_info": {
      "name": "python"
    },
    "gpuClass": "premium",
    "accelerator": "GPU"
  },
  "cells": [
    {
      "cell_type": "markdown",
      "metadata": {
        "id": "view-in-github",
        "colab_type": "text"
      },
      "source": [
        "<a href=\"https://colab.research.google.com/github/JoshuaGottlieb/Rest-of-the-Owl/blob/main/notebooks/Modeling.ipynb\" target=\"_parent\"><img src=\"https://colab.research.google.com/assets/colab-badge.svg\" alt=\"Open In Colab\"/></a>"
      ]
    },
    {
      "cell_type": "markdown",
      "source": [
        "## Importing Libraries"
      ],
      "metadata": {
        "id": "v2Whr_Lg3BqR"
      }
    },
    {
      "cell_type": "code",
      "execution_count": null,
      "metadata": {
        "id": "_LjwspmwMK_3"
      },
      "outputs": [],
      "source": [
        "import tensorflow as tf\n",
        "from tensorflow.keras.applications.vgg16 import VGG16\n",
        "from google.colab import drive\n",
        "drive.mount('/content/gdrive', force_remount = True) # Mount drive to access python modules\n",
        "base_path = '/content/gdrive/MyDrive/Rest_of_the_Owl_Project_Data' # Declare base path of repository\n",
        "!pip install difPy # Install necessary packages to use relative imports from python modules\n",
        "!cp -r /content/gdrive/MyDrive/Rest_of_the_Owl_Project_Data/src /content # Mount python module base directory\n",
        "import src.modeling.preprocess as model_prep\n",
        "import src.modeling.model_gen as model_gen\n",
        "import src.modeling.pix2pix as pix2pix\n",
        "import src.modeling.autopainter as autopainter\n",
        "import src.utils as utils"
      ]
    },
    {
      "cell_type": "code",
      "source": [
        "batch_size = 1\n",
        "train_length = 1905"
      ],
      "metadata": {
        "id": "GBMcQeOSYDjT"
      },
      "execution_count": null,
      "outputs": []
    },
    {
      "cell_type": "markdown",
      "source": [
        "## pix2pix training"
      ],
      "metadata": {
        "id": "FiP7c1kUamsF"
      }
    },
    {
      "cell_type": "code",
      "source": [
        "train_dataset = tf.data.Dataset.list_files(f'{base_path}/data/train/*.jpg')\n",
        "train_dataset = train_dataset.map(model_prep.load_image_and_sketch,\n",
        "                                  num_parallel_calls = tf.data.AUTOTUNE)\n",
        "train_dataset = train_dataset.shuffle(train_length)\n",
        "train_dataset = train_dataset.batch(batch_size)\n",
        "test_dataset = tf.data.Dataset.list_files(f'{base_path}/data/test/*.jpg')\n",
        "test_dataset = test_dataset.map(model_prep.load_image_and_sketch,\n",
        "                                  num_parallel_calls = tf.data.AUTOTUNE)\n",
        "test_dataset = test_dataset.batch(batch_size)"
      ],
      "metadata": {
        "id": "XAO9RKUQMoFB"
      },
      "execution_count": null,
      "outputs": []
    },
    {
      "cell_type": "code",
      "source": [
        "# generator_pix2pix = model_gen.create_generator()\n",
        "# discriminator_pix2pix = model_gen.create_discriminator()\n",
        "# generator_optimizer_pix2pix = tf.keras.optimizers.Adam(1e-4)\n",
        "# discriminator_optimizer_pix2pix = tf.keras.optimizers.Adam(1e-4)\n",
        "# loss_obj = tf.keras.losses.BinaryCrossentropy(from_logits = True)\n",
        "# log_file_pix2pix = f'{base_path}/logs/pix2pix/epoch_data.csv'\n",
        "# model_dir_pix2pix = f'{base_path}/models/pix2pix''"
      ],
      "metadata": {
        "id": "Xxmyfw-oMbVq"
      },
      "execution_count": null,
      "outputs": []
    },
    {
      "cell_type": "code",
      "source": [
        "# pix2pix.fit_pix2pix(train_dataset, test_dataset, epochs = 200,\n",
        "#             generator = generator_pix2pix, discriminator = discriminator_pix2pix,\n",
        "#             gen_optimizer = generator_optimizer_pix2pix, discrim_optimizer = discriminator_optimizer_pix2pix,\n",
        "#             loss_obj = loss_obj, log_file = log_file_pix2pix, model_dir = model_dir_pix2pix, save = True, starting_epoch = 0)"
      ],
      "metadata": {
        "id": "eP3C135CcljX"
      },
      "execution_count": null,
      "outputs": []
    },
    {
      "cell_type": "code",
      "source": [
        "# epoch_dir = f'{base_path}/models/pix2pix/epoch_180'\n",
        "# model_type = 'pix2pix'\n",
        "# components = utils.reload_model_from_epoch(epoch_dir, model_type, base_path)\n",
        "\n",
        "# generator_pix2pix = components[0]\n",
        "# discriminator_pix2pix = components[1]\n",
        "# generator_optimizer_pix2pix = components[2]\n",
        "# discriminator_optimizer_pix2pix = components[3]\n",
        "# loss_obj = components[4]\n",
        "# log_file_pix2pix = components[5]\n",
        "# model_dir_pix2pix = components[6]"
      ],
      "metadata": {
        "id": "IR8hQfVvcrXv"
      },
      "execution_count": null,
      "outputs": []
    },
    {
      "cell_type": "code",
      "source": [
        "# pix2pix.fit_pix2pix(train_dataset, test_dataset, epochs = 20,\n",
        "#             generator = generator_pix2pix, discriminator = discriminator_pix2pix,\n",
        "#             gen_optimizer = generator_optimizer_pix2pix, discrim_optimizer = discriminator_optimizer_pix2pix,\n",
        "#             loss_obj = loss_obj, log_file = log_file_pix2pix, model_dir = model_dir_pix2pix, save = True, starting_epoch = 180)"
      ],
      "metadata": {
        "id": "n1dIIJFTEgR3"
      },
      "execution_count": null,
      "outputs": []
    },
    {
      "cell_type": "markdown",
      "source": [
        "## Autopainter Training"
      ],
      "metadata": {
        "id": "9H814oPGq7ef"
      }
    },
    {
      "cell_type": "code",
      "source": [
        "# train_dataset = tf.data.Dataset.list_files(f'{base_path}/data/train/*.jpg')\n",
        "# train_dataset = train_dataset.map(model_prep.load_image_and_sketch,\n",
        "#                                   num_parallel_calls = tf.data.AUTOTUNE)\n",
        "# train_dataset = train_dataset.shuffle(train_length)\n",
        "# train_dataset = train_dataset.batch(batch_size)\n",
        "# test_dataset = tf.data.Dataset.list_files(f'{base_path}/data/test/*.jpg')\n",
        "# test_dataset = test_dataset.map(model_prep.load_image_and_sketch,\n",
        "#                                   num_parallel_calls = tf.data.AUTOTUNE)\n",
        "# test_dataset = test_dataset.batch(batch_size)"
      ],
      "metadata": {
        "id": "-vgrtOJqq9Sa"
      },
      "execution_count": null,
      "outputs": []
    },
    {
      "cell_type": "code",
      "source": [
        "# generator_autopainter = model_gen.create_generator()\n",
        "# discriminator_autopainter = model_gen.create_discriminator()\n",
        "# generator_optimizer_autopainter = tf.keras.optimizers.Adam(1e-4)\n",
        "# discriminator_optimizer_autopainter = tf.keras.optimizers.Adam(1e-4)\n",
        "# net = VGG16()\n",
        "# net = tf.keras.Model(inputs = net.inputs, outputs = net.layers[9].output)\n",
        "# log_file_autopainter = f'{base_path}/logs/autopainter/epoch_data.csv'\n",
        "# model_dir_autopainter = f'{base_path}/models/autopainter'"
      ],
      "metadata": {
        "id": "H1UR3sFYrPBs"
      },
      "execution_count": null,
      "outputs": []
    },
    {
      "cell_type": "code",
      "source": [
        "# autopainter.fit_autopainter(train_dataset, test_dataset, epochs = 200,\n",
        "#                 generator = generator_autopainter, discriminator = discriminator_autopainter,\n",
        "#                 gen_optimizer = generator_optimizer_autopainter, discrim_optimizer = discriminator_optimizer_autopainter,\n",
        "#                 net = net, log_file = log_file_autopainter, model_dir = model_dir_autopainter, save = True, starting_epoch = 0)"
      ],
      "metadata": {
        "id": "Wc0WURBerPDn"
      },
      "execution_count": null,
      "outputs": []
    },
    {
      "cell_type": "code",
      "source": [
        "# epoch_dir = f'{base_path}/models/autopainter/epoch_130'\n",
        "# model_type = 'autopainter'\n",
        "# components = utils.reload_model_from_epoch(epoch_dir, model_type, base_path)\n",
        "\n",
        "# generator_autopainter = components[0]\n",
        "# discriminator_autopainter = components[1]\n",
        "# generator_optimizer_autopainter = components[2]\n",
        "# discriminator_optimizer_autopainter = components[3]\n",
        "# net = components[4]\n",
        "# log_file_autopainter = components[5]\n",
        "# model_dir_autopainter = components[6]"
      ],
      "metadata": {
        "collapsed": true,
        "id": "7AAbN5LMraXy"
      },
      "execution_count": null,
      "outputs": []
    },
    {
      "cell_type": "code",
      "source": [
        "# autopainter.fit_autopainter(train_dataset, test_dataset, epochs = 70,\n",
        "#                 generator = generator_autopainter, discriminator = discriminator_autopainter,\n",
        "#                 gen_optimizer = generator_optimizer_autopainter, discrim_optimizer = discriminator_optimizer_autopainter,\n",
        "#                 net = net, log_file = log_file_autopainter, model_dir = model_dir_autopainter, save = True, starting_epoch = 130)"
      ],
      "metadata": {
        "collapsed": true,
        "id": "yUWPLZVQracE"
      },
      "execution_count": null,
      "outputs": []
    }
  ]
}