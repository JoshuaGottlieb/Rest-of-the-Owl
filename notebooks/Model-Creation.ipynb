{
 "cells": [
  {
   "cell_type": "code",
   "execution_count": 1,
   "id": "cd9fcf9b",
   "metadata": {},
   "outputs": [],
   "source": [
    "import tensorflow as tf\n",
    "import pickle\n",
    "import os\n",
    "from tensorflow.keras import Input, Model, Sequential\n",
    "from tensorflow.keras.layers import Activation, Conv2D, Conv2DTranspose, BatchNormalization, Dropout, LeakyReLU\n",
    "from tensorflow.keras.layers import ReLU, Resizing, Rescaling, concatenate\n",
    "from tensorflow.keras.applications.vgg16 import VGG16\n",
    "from tensorflow.keras.preprocessing.image import ImageDataGenerator\n",
    "from tensorflow.summary import scalar, create_file_writer\n",
    "import time\n",
    "import datetime\n",
    "import keras\n",
    "from tensorflow.io import read_file, decode_jpeg\n",
    "from tensorflow import cast, shape\n",
    "from tensorflow.image import resize_with_pad, ResizeMethod"
   ]
  },
  {
   "cell_type": "code",
   "execution_count": null,
   "id": "258262fe",
   "metadata": {},
   "outputs": [],
   "source": []
  },
  {
   "cell_type": "code",
   "execution_count": null,
   "id": "7ede8360",
   "metadata": {},
   "outputs": [],
   "source": []
  },
  {
   "cell_type": "markdown",
   "id": "f28b2cb1",
   "metadata": {},
   "source": [
    "# Generator and Discriminator"
   ]
  },
  {
   "cell_type": "code",
   "execution_count": null,
   "id": "1b4446be",
   "metadata": {},
   "outputs": [],
   "source": []
  },
  {
   "cell_type": "code",
   "execution_count": null,
   "id": "e663e288",
   "metadata": {},
   "outputs": [],
   "source": []
  },
  {
   "cell_type": "code",
   "execution_count": null,
   "id": "a14175dd",
   "metadata": {},
   "outputs": [],
   "source": []
  },
  {
   "cell_type": "code",
   "execution_count": null,
   "id": "6f0595ff",
   "metadata": {},
   "outputs": [],
   "source": []
  },
  {
   "cell_type": "code",
   "execution_count": 2,
   "id": "419d3451",
   "metadata": {},
   "outputs": [],
   "source": [
    "def downsample(filters, size, strides, apply_batchnorm = True):\n",
    "    initializer = tf.random_normal_initializer(0., 0.02)\n",
    "    \n",
    "    # Make sequential model\n",
    "    result = Sequential()\n",
    "    # Add Conv2D\n",
    "    result.add(Conv2D(filters, size, strides = strides, padding = 'same',\n",
    "                             kernel_initializer = initializer, use_bias = False))\n",
    "\n",
    "    # Optionally add batchnorm\n",
    "    if apply_batchnorm:\n",
    "        result.add(BatchNormalization())\n",
    "\n",
    "    # Add leaky relu\n",
    "    result.add(LeakyReLU(alpha = 0.2))\n",
    "\n",
    "    return result"
   ]
  },
  {
   "cell_type": "code",
   "execution_count": 3,
   "id": "2799572c",
   "metadata": {},
   "outputs": [],
   "source": [
    "def upsample(filters, size, strides, apply_dropout = False):\n",
    "    initializer = tf.random_normal_initializer(0., 0.02)\n",
    "\n",
    "    # Make sequential model\n",
    "    result = Sequential()\n",
    "    # Add deconv layer (conv2dtranspose)\n",
    "    result.add(Conv2DTranspose(filters, size, strides = strides,\n",
    "                                    padding='same',\n",
    "                                    kernel_initializer = initializer,\n",
    "                                    use_bias = False))\n",
    "\n",
    "    # Add batchnorm\n",
    "    result.add(BatchNormalization())\n",
    "\n",
    "    # Optionally add dropout\n",
    "    if apply_dropout:\n",
    "        result.add(Dropout(0.5))\n",
    "    \n",
    "    # Add relu\n",
    "    result.add(ReLU())\n",
    "\n",
    "    return result"
   ]
  },
  {
   "cell_type": "code",
   "execution_count": 4,
   "id": "fec12568",
   "metadata": {},
   "outputs": [],
   "source": [
    "def create_generator():\n",
    "    inputs = Input(shape = [256, 256, 1])\n",
    "    \n",
    "    # Define downsampling layers\n",
    "    down_stack = [\n",
    "        downsample(64, 4, 2, apply_batchnorm = False),\n",
    "        downsample(128, 4, 2),\n",
    "        downsample(256, 4, 2),\n",
    "        downsample(512, 4, 2),\n",
    "        downsample(512, 4, 2),\n",
    "        downsample(512, 4, 2),\n",
    "        downsample(512, 4, 2),\n",
    "        downsample(512, 4, 2)\n",
    "    ]\n",
    "    \n",
    "    # Define upsampling layers\n",
    "    up_stack = [\n",
    "        upsample(512, 4, 2, apply_dropout = True),\n",
    "        upsample(512, 4, 2, apply_dropout = True),\n",
    "        upsample(512, 4, 2, apply_dropout = True),\n",
    "        upsample(512, 4, 2),\n",
    "        upsample(256, 4, 2),\n",
    "        upsample(128, 4, 2),\n",
    "        upsample(64, 4, 2),\n",
    "    ]\n",
    "    \n",
    "    # Last layer\n",
    "    initializer = tf.random_normal_initializer(0., 0.02)\n",
    "    last = tf.keras.layers.Conv2DTranspose(1, 4, strides = 2, padding = 'same',\n",
    "                                           kernel_initializer = initializer, activation = 'tanh')\n",
    "    \n",
    "    x = inputs\n",
    "\n",
    "    # Downsampling through the model\n",
    "    skips = []\n",
    "    for down in down_stack:\n",
    "        x = down(x)\n",
    "        skips.append(x)\n",
    "\n",
    "    skips = reversed(skips[:-1])\n",
    "\n",
    "    # Upsampling and establishing the skip connections\n",
    "    for up, skip in zip(up_stack, skips):\n",
    "        x = up(x)\n",
    "        x = tf.keras.layers.Concatenate()([x, skip])\n",
    "\n",
    "    x = last(x)\n",
    "\n",
    "    return tf.keras.Model(inputs = inputs, outputs = x)"
   ]
  },
  {
   "cell_type": "code",
   "execution_count": 5,
   "id": "697aaee2",
   "metadata": {},
   "outputs": [],
   "source": [
    "def create_discriminator():\n",
    "    initializer = tf.random_normal_initializer(0., 0.02)\n",
    "\n",
    "    inp = tf.keras.layers.Input(shape = [256, 256, 1], name = 'sketch')\n",
    "    tar = tf.keras.layers.Input(shape = [256, 256, 1], name = 'target')\n",
    "\n",
    "    x = tf.keras.layers.concatenate([inp, tar])\n",
    "\n",
    "    down1 = downsample(64, 4, 2, False)(x)\n",
    "    down2 = downsample(128, 4, 2)(down1)\n",
    "    down3 = downsample(256, 4, 2)(down2)\n",
    "    down4 = downsample(512, 4, 1)(down3)\n",
    "\n",
    "    last = tf.keras.layers.Conv2D(1, 4, strides = 1, kernel_initializer = initializer)(down4)\n",
    "\n",
    "    return tf.keras.Model(inputs = [inp, tar], outputs = last)"
   ]
  },
  {
   "cell_type": "code",
   "execution_count": null,
   "id": "a97fc737",
   "metadata": {},
   "outputs": [],
   "source": []
  },
  {
   "cell_type": "markdown",
   "id": "8f9feea8",
   "metadata": {},
   "source": [
    "# Classes and Losses"
   ]
  },
  {
   "cell_type": "code",
   "execution_count": null,
   "id": "8867cdd3",
   "metadata": {},
   "outputs": [],
   "source": []
  },
  {
   "cell_type": "code",
   "execution_count": null,
   "id": "df4c4ed0",
   "metadata": {},
   "outputs": [],
   "source": []
  },
  {
   "cell_type": "code",
   "execution_count": null,
   "id": "0667e9ec",
   "metadata": {},
   "outputs": [],
   "source": []
  },
  {
   "cell_type": "code",
   "execution_count": 7,
   "id": "085bad0c",
   "metadata": {},
   "outputs": [],
   "source": [
    "# log_dir=\"logs/\"\n",
    "\n",
    "# summary_writer = tf.summary.create_file_writer(\n",
    "#   log_dir + \"fit/\" + datetime.datetime.now().strftime(\"%Y%m%d-%H%M%S\"))"
   ]
  },
  {
   "cell_type": "code",
   "execution_count": 8,
   "id": "92a0ad3e",
   "metadata": {},
   "outputs": [],
   "source": [
    "# def fit(train_ds, test_ds, steps):\n",
    "#     start = time.time()\n",
    "\n",
    "#     for step, (input_image, target) in train_ds.repeat().take(steps).enumerate():\n",
    "#         if (step) % 1000 == 0:\n",
    "#             display.clear_output(wait=True)\n",
    "\n",
    "#     if step != 0:\n",
    "#         print(f'Time taken for 1000 steps: {time.time()-start:.2f} sec\\n')\n",
    "\n",
    "#     start = time.time()\n",
    "\n",
    "#   print(f\"Step: {step//1000}k\")\n",
    "# train_step(input_image, target, step)\n",
    "\n",
    "# # Training step\n",
    "# if (step+1) % 10 == 0:\n",
    "#   print('.', end='', flush=True)\n",
    "\n",
    "\n",
    "# # Save (checkpoint) the model every 5k steps\n",
    "# if (step + 1) % 5000 == 0:\n",
    "#   checkpoint.save(file_prefix=checkpoint_prefix)"
   ]
  },
  {
   "cell_type": "code",
   "execution_count": null,
   "id": "e797164c",
   "metadata": {},
   "outputs": [],
   "source": []
  },
  {
   "cell_type": "code",
   "execution_count": 9,
   "id": "01ad25c0",
   "metadata": {},
   "outputs": [],
   "source": [
    "#     def train_step(self, sketches, images):\n",
    "                \n",
    "#         with tf.GradientTape() as gen_tape, tf.GradientTape() as disc_tape:\n",
    "#             generated_images = self.generator(sketches, training = True)\n",
    "\n",
    "#             predict_real = self.discriminator([sketches, images], training = True)\n",
    "#             predict_fake = self.discriminator([sketches, generated_images], training = True)\n",
    "\n",
    "#             gen_step_loss = self.g_loss(images, generated_images, predict_fake, self.net1, self.net2)\n",
    "#             disc_step_loss = self.d_loss(predict_real, predict_fake)\n",
    "\n",
    "#         gen_grad = gen_tape.gradient(gen_step_loss, self.generator.trainable_variables)\n",
    "#         disc_grad = disc_tape.gradient(disc_loss, self.discriminator.trainable_variables)\n",
    "\n",
    "#         generator_optimizer.apply_gradients(zip(gradients_of_generator, generator.trainable_variables))\n",
    "#         discriminator_optimizer.apply_gradients(zip(gradients_of_discriminator, discriminator.trainable_variables))\n",
    "        \n",
    "#         # Monitor loss.\n",
    "#         self.gen_loss_tracker.update_state(gen_step_loss)\n",
    "#         self.disc_loss_tracker.update_state(disc_step_loss)\n",
    "\n",
    "#         return {\"g_loss\": self.gen_loss_tracker.result(), \"d_loss\": self.disc_loss_tracker.result()}"
   ]
  },
  {
   "cell_type": "code",
   "execution_count": null,
   "id": "5ca333b0",
   "metadata": {},
   "outputs": [],
   "source": []
  },
  {
   "cell_type": "code",
   "execution_count": null,
   "id": "d42d0c65",
   "metadata": {},
   "outputs": [],
   "source": []
  },
  {
   "cell_type": "code",
   "execution_count": null,
   "id": "fcf3cba2",
   "metadata": {},
   "outputs": [],
   "source": []
  },
  {
   "cell_type": "code",
   "execution_count": null,
   "id": "26571023",
   "metadata": {},
   "outputs": [],
   "source": []
  },
  {
   "cell_type": "code",
   "execution_count": null,
   "id": "091f3147",
   "metadata": {},
   "outputs": [],
   "source": []
  },
  {
   "cell_type": "code",
   "execution_count": null,
   "id": "17090cd5",
   "metadata": {},
   "outputs": [],
   "source": []
  },
  {
   "cell_type": "code",
   "execution_count": null,
   "id": "c254af17",
   "metadata": {},
   "outputs": [],
   "source": []
  },
  {
   "cell_type": "code",
   "execution_count": null,
   "id": "1ec36d61",
   "metadata": {},
   "outputs": [],
   "source": []
  },
  {
   "cell_type": "code",
   "execution_count": null,
   "id": "f81b9c4a",
   "metadata": {},
   "outputs": [],
   "source": []
  },
  {
   "cell_type": "markdown",
   "id": "2bfbea88",
   "metadata": {},
   "source": [
    "# Preprocessing"
   ]
  },
  {
   "cell_type": "code",
   "execution_count": null,
   "id": "edf91bb6",
   "metadata": {},
   "outputs": [],
   "source": []
  },
  {
   "cell_type": "code",
   "execution_count": null,
   "id": "15bc79a8",
   "metadata": {},
   "outputs": [],
   "source": []
  },
  {
   "cell_type": "code",
   "execution_count": 10,
   "id": "30f9fbf1",
   "metadata": {},
   "outputs": [],
   "source": [
    "# image_datagen = ImageDataGenerator(\n",
    "#     rescale = 1./255\n",
    "# )"
   ]
  },
  {
   "cell_type": "code",
   "execution_count": 11,
   "id": "00ac8f7e",
   "metadata": {},
   "outputs": [],
   "source": [
    "# sketch_datagen = ImageDataGenerator(\n",
    "#     rescale = 1./255\n",
    "# )"
   ]
  },
  {
   "cell_type": "code",
   "execution_count": 12,
   "id": "2506f337",
   "metadata": {},
   "outputs": [],
   "source": [
    "# train_generator_image = image_datagen.flow_from_directory(\n",
    "#     '../data/train/images',\n",
    "#     target_size = (256, 256),\n",
    "#     batch_size = 32,\n",
    "#     class_mode = None,\n",
    "#     color_mode = 'grayscale'\n",
    "# )\n",
    "\n",
    "# train_generator_sketch = sketch_datagen.flow_from_directory(\n",
    "#     '../data/train/sketches',\n",
    "#     target_size = (256, 256),\n",
    "#     batch_size = 32,\n",
    "#     class_mode = None,\n",
    "#     color_mode = 'grayscale'\n",
    "# )"
   ]
  },
  {
   "cell_type": "code",
   "execution_count": 13,
   "id": "e3ab6753",
   "metadata": {},
   "outputs": [],
   "source": [
    "# test_generator_image = image_datagen.flow_from_directory(\n",
    "#     '../data/test/images',\n",
    "#     target_size = (256, 256),\n",
    "#     batch_size = 32,\n",
    "#     class_mode = None,\n",
    "#     color_mode = 'grayscale'\n",
    "# )\n",
    "\n",
    "# test_generator_sketch = sketch_datagen.flow_from_directory(\n",
    "#     '../data/test/sketches',\n",
    "#     target_size = (256, 256),\n",
    "#     batch_size = 32,\n",
    "#     class_mode = None,\n",
    "#     color_mode = 'grayscale'\n",
    "# )"
   ]
  },
  {
   "cell_type": "code",
   "execution_count": null,
   "id": "f6e71bae",
   "metadata": {},
   "outputs": [],
   "source": []
  },
  {
   "cell_type": "code",
   "execution_count": 14,
   "id": "f2063298",
   "metadata": {},
   "outputs": [],
   "source": [
    "# validation_generator_image = image_datagen.flow_from_directory(\n",
    "#     '../data/train/images',\n",
    "#     target_size=(256, 256),\n",
    "#     batch_size=32,\n",
    "#     class_mode=None,\n",
    "#     color_mode = 'grayscale',\n",
    "#     subset='validation') # set as validation data\n",
    "\n",
    "# validation_generator_sketch = sketch_datagen.flow_from_directory(\n",
    "#     '../data/train/sketches',\n",
    "#     target_size=(256, 256),\n",
    "#     batch_size=32,\n",
    "#     class_mode=None,\n",
    "#     color_mode = 'grayscale',\n",
    "#     subset='validation') # set as validation data"
   ]
  },
  {
   "cell_type": "code",
   "execution_count": 15,
   "id": "601b7598",
   "metadata": {},
   "outputs": [],
   "source": [
    "def load(image_file):\n",
    "  # Read and decode an image file to a uint8 tensor\n",
    "    pair = read_file(image_file)\n",
    "    pair = decode_jpeg(pair)\n",
    "    \n",
    "    w = shape(pair)[1]\n",
    "    w = w // 2\n",
    "    \n",
    "    image = pair[:, w:, :]\n",
    "    sketch = pair[:, :w, :]\n",
    "\n",
    "  # Convert both images to float32 tensors\n",
    "    sketch = cast(sketch, tf.float32)\n",
    "    image = cast(image, tf.float32)\n",
    "\n",
    "    return sketch, image"
   ]
  },
  {
   "cell_type": "code",
   "execution_count": 16,
   "id": "3b32cbbb",
   "metadata": {},
   "outputs": [],
   "source": [
    "def resize(sketch, image, height, width):\n",
    "    sketch_resized = resize_with_pad(sketch, height, width, method = ResizeMethod.NEAREST_NEIGHBOR)\n",
    "    image_resized = resize_with_pad(image, height, width, method = ResizeMethod.NEAREST_NEIGHBOR)\n",
    "\n",
    "    return sketch_resized, image_resized"
   ]
  },
  {
   "cell_type": "code",
   "execution_count": 17,
   "id": "20a2771c",
   "metadata": {},
   "outputs": [],
   "source": [
    "# Normalizing the images to [0, 1]\n",
    "def normalize(sketch, image):\n",
    "    sketch_scaled = sketch / 255\n",
    "    image_scaled = image / 255\n",
    "\n",
    "    return sketch_scaled, image_scaled"
   ]
  },
  {
   "cell_type": "code",
   "execution_count": 18,
   "id": "9540cc95",
   "metadata": {},
   "outputs": [],
   "source": [
    "def load_image_and_sketch(image_file):\n",
    "    sketch, image = load(image_file)\n",
    "    sketch, image = resize(sketch, image, 256, 256)\n",
    "    sketch, image = normalize(sketch, image)\n",
    "\n",
    "    return sketch, image"
   ]
  },
  {
   "cell_type": "code",
   "execution_count": 19,
   "id": "cebbe213",
   "metadata": {},
   "outputs": [],
   "source": [
    "train_dataset = tf.data.Dataset.list_files('../data/train/*.jpg')\n",
    "train_dataset = train_dataset.map(load_image_and_sketch,\n",
    "                                  num_parallel_calls = tf.data.AUTOTUNE)\n",
    "train_dataset = train_dataset.shuffle(1524)\n",
    "train_dataset = train_dataset.batch(32)"
   ]
  },
  {
   "cell_type": "code",
   "execution_count": 20,
   "id": "4a97520e",
   "metadata": {},
   "outputs": [],
   "source": [
    "validation_dataset = tf.data.Dataset.list_files('../data/validation/*.jpg')\n",
    "validation_dataset = validation_dataset.map(load_image_and_sketch,\n",
    "                                  num_parallel_calls = tf.data.AUTOTUNE)\n",
    "validation_dataset = validation_dataset.batch(32)"
   ]
  },
  {
   "cell_type": "code",
   "execution_count": 21,
   "id": "fb91a239",
   "metadata": {},
   "outputs": [],
   "source": [
    "test_dataset = tf.data.Dataset.list_files('../data/test/*.jpg')\n",
    "test_dataset = test_dataset.map(load_image_and_sketch,\n",
    "                                  num_parallel_calls = tf.data.AUTOTUNE)\n",
    "test_dataset = test_dataset.batch(32)"
   ]
  },
  {
   "cell_type": "code",
   "execution_count": 22,
   "id": "7c4e0149",
   "metadata": {},
   "outputs": [],
   "source": [
    "generator = create_generator()\n",
    "discriminator = create_discriminator()\n",
    "generator_optimizer = tf.keras.optimizers.Adam(1e-4)\n",
    "discriminator_optimizer = tf.keras.optimizers.Adam(1e-4)\n",
    "net1 = VGG16()\n",
    "net2 = VGG16()"
   ]
  },
  {
   "cell_type": "code",
   "execution_count": 110,
   "id": "d4a8abf3",
   "metadata": {},
   "outputs": [
    {
     "data": {
      "text/plain": [
       "<keras.layers.convolutional.conv2d.Conv2D at 0x7f270034e460>"
      ]
     },
     "execution_count": 110,
     "metadata": {},
     "output_type": "execute_result"
    }
   ],
   "source": [
    "net1.get_layer('block3_conv3')"
   ]
  },
  {
   "cell_type": "code",
   "execution_count": 127,
   "id": "b3875791",
   "metadata": {},
   "outputs": [
    {
     "name": "stdout",
     "output_type": "stream",
     "text": [
      "Model: \"vgg16\"\n",
      "_________________________________________________________________\n",
      " Layer (type)                Output Shape              Param #   \n",
      "=================================================================\n",
      " input_2 (InputLayer)        [(None, 224, 224, 3)]     0         \n",
      "                                                                 \n",
      " block1_conv1 (Conv2D)       (None, 224, 224, 64)      1792      \n",
      "                                                                 \n",
      " block1_conv2 (Conv2D)       (None, 224, 224, 64)      36928     \n",
      "                                                                 \n",
      " block1_pool (MaxPooling2D)  (None, 112, 112, 64)      0         \n",
      "                                                                 \n",
      " block2_conv1 (Conv2D)       (None, 112, 112, 128)     73856     \n",
      "                                                                 \n",
      " block2_conv2 (Conv2D)       (None, 112, 112, 128)     147584    \n",
      "                                                                 \n",
      " block2_pool (MaxPooling2D)  (None, 56, 56, 128)       0         \n",
      "                                                                 \n",
      " block3_conv1 (Conv2D)       (None, 56, 56, 256)       295168    \n",
      "                                                                 \n",
      " block3_conv2 (Conv2D)       (None, 56, 56, 256)       590080    \n",
      "                                                                 \n",
      " block3_conv3 (Conv2D)       (None, 56, 56, 256)       590080    \n",
      "                                                                 \n",
      " block3_pool (MaxPooling2D)  (None, 28, 28, 256)       0         \n",
      "                                                                 \n",
      " block4_conv1 (Conv2D)       (None, 28, 28, 512)       1180160   \n",
      "                                                                 \n",
      " block4_conv2 (Conv2D)       (None, 28, 28, 512)       2359808   \n",
      "                                                                 \n",
      " block4_conv3 (Conv2D)       (None, 28, 28, 512)       2359808   \n",
      "                                                                 \n",
      " block4_pool (MaxPooling2D)  (None, 14, 14, 512)       0         \n",
      "                                                                 \n",
      " block5_conv1 (Conv2D)       (None, 14, 14, 512)       2359808   \n",
      "                                                                 \n",
      " block5_conv2 (Conv2D)       (None, 14, 14, 512)       2359808   \n",
      "                                                                 \n",
      " block5_conv3 (Conv2D)       (None, 14, 14, 512)       2359808   \n",
      "                                                                 \n",
      " block5_pool (MaxPooling2D)  (None, 7, 7, 512)         0         \n",
      "                                                                 \n",
      " flatten (Flatten)           (None, 25088)             0         \n",
      "                                                                 \n",
      " fc1 (Dense)                 (None, 4096)              102764544 \n",
      "                                                                 \n",
      " fc2 (Dense)                 (None, 4096)              16781312  \n",
      "                                                                 \n",
      " predictions (Dense)         (None, 1000)              4097000   \n",
      "                                                                 \n",
      "=================================================================\n",
      "Total params: 138,357,544\n",
      "Trainable params: 138,357,544\n",
      "Non-trainable params: 0\n",
      "_________________________________________________________________\n"
     ]
    }
   ],
   "source": [
    "net1.summary()"
   ]
  },
  {
   "cell_type": "code",
   "execution_count": 104,
   "id": "6c97d684",
   "metadata": {},
   "outputs": [
    {
     "ename": "AttributeError",
     "evalue": "'Functional' object has no attribute 'block3_conv3'",
     "output_type": "error",
     "traceback": [
      "\u001b[0;31m---------------------------------------------------------------------------\u001b[0m",
      "\u001b[0;31mAttributeError\u001b[0m                            Traceback (most recent call last)",
      "\u001b[0;32m<ipython-input-104-b7921f0c643c>\u001b[0m in \u001b[0;36m<module>\u001b[0;34m\u001b[0m\n\u001b[0;32m----> 1\u001b[0;31m \u001b[0mnet1\u001b[0m\u001b[0;34m.\u001b[0m\u001b[0mblock3_conv3\u001b[0m\u001b[0;34m\u001b[0m\u001b[0;34m\u001b[0m\u001b[0m\n\u001b[0m",
      "\u001b[0;31mAttributeError\u001b[0m: 'Functional' object has no attribute 'block3_conv3'"
     ]
    }
   ],
   "source": [
    "net1.block3_conv3"
   ]
  },
  {
   "cell_type": "code",
   "execution_count": 159,
   "id": "cc06cbcf",
   "metadata": {},
   "outputs": [],
   "source": [
    "from PIL import Image"
   ]
  },
  {
   "cell_type": "code",
   "execution_count": 161,
   "id": "8086e7f2",
   "metadata": {},
   "outputs": [],
   "source": [
    "image = Image.open('../data/raw/actual_owls/resized/Owl_Resized_0001.jpg')\n",
    "net1.build(image)\n",
    "output = net1.get_layer('block3_conv3').output"
   ]
  },
  {
   "cell_type": "code",
   "execution_count": 184,
   "id": "ca1417b5",
   "metadata": {},
   "outputs": [
    {
     "data": {
      "text/plain": [
       "<KerasTensor: shape=(56, 56, 256) dtype=float32 (created by layer 'tf.reshape')>"
      ]
     },
     "execution_count": 184,
     "metadata": {},
     "output_type": "execute_result"
    }
   ],
   "source": [
    "tf.reshape(output, (56,56,256))"
   ]
  },
  {
   "cell_type": "code",
   "execution_count": 167,
   "id": "a099d42c",
   "metadata": {},
   "outputs": [],
   "source": [
    "image2 = Image.open('../data/raw/actual_owls/sketched/resized/Owl_Sketched_Resized_0001.jpg')\n",
    "net1.build(image2)\n",
    "output2 = net1.get_layer('block3_conv3').output"
   ]
  },
  {
   "cell_type": "code",
   "execution_count": 185,
   "id": "5e316d78",
   "metadata": {},
   "outputs": [
    {
     "data": {
      "text/plain": [
       "<KerasTensor: shape=(56, 56, 256) dtype=float32 (created by layer 'tf.math.subtract_13')>"
      ]
     },
     "execution_count": 185,
     "metadata": {},
     "output_type": "execute_result"
    }
   ],
   "source": [
    "tf.reshape(output, (56,56,256)) - tf.reshape(output2, (56,56,256))"
   ]
  },
  {
   "cell_type": "code",
   "execution_count": 189,
   "id": "8f56ff75",
   "metadata": {},
   "outputs": [],
   "source": [
    "# tf.reduce_mean\n",
    "# tf.sqrt(\n",
    "tensor = tf.nn.l2_loss(tf.reshape(output, (56,56,256)) - tf.reshape(output2, (56,56,256)))"
   ]
  },
  {
   "cell_type": "code",
   "execution_count": 192,
   "id": "a2d97959",
   "metadata": {},
   "outputs": [
    {
     "data": {
      "text/plain": [
       "<KerasTensor: shape=() dtype=float32 (created by layer 'tf.nn.l2_loss_10')>"
      ]
     },
     "execution_count": 192,
     "metadata": {},
     "output_type": "execute_result"
    }
   ],
   "source": [
    "tensor"
   ]
  },
  {
   "cell_type": "code",
   "execution_count": 154,
   "id": "05e546b7",
   "metadata": {},
   "outputs": [],
   "source": [
    "model = autopainter(discriminator, generator, net1, net2)"
   ]
  },
  {
   "cell_type": "code",
   "execution_count": 155,
   "id": "fbeb2b65",
   "metadata": {},
   "outputs": [],
   "source": [
    "# d_loss = discrim_loss()\n",
    "# g_loss = gen_loss()"
   ]
  },
  {
   "cell_type": "code",
   "execution_count": 156,
   "id": "e5141525",
   "metadata": {},
   "outputs": [],
   "source": [
    "model.compile(discriminator_optimizer, generator_optimizer)"
   ]
  },
  {
   "cell_type": "code",
   "execution_count": 157,
   "id": "339b6689",
   "metadata": {},
   "outputs": [
    {
     "name": "stdout",
     "output_type": "stream",
     "text": [
      "Epoch 1/10\n"
     ]
    },
    {
     "ename": "TypeError",
     "evalue": "in user code:\n\n    File \"/home/joshua/anaconda3/envs/learn-env/lib/python3.8/site-packages/keras/engine/training.py\", line 1249, in train_function  *\n        return step_function(self, iterator)\n    File \"/home/joshua/anaconda3/envs/learn-env/lib/python3.8/site-packages/keras/engine/training.py\", line 1233, in step_function  **\n        outputs = model.distribute_strategy.run(run_step, args=(data,))\n    File \"/home/joshua/anaconda3/envs/learn-env/lib/python3.8/site-packages/keras/engine/training.py\", line 1222, in run_step  **\n        outputs = model.train_step(data)\n    File \"<ipython-input-153-6de2bcc5c56f>\", line 81, in train_step\n        gen_total_loss, gen_loss_GAN, gen_loss_L1, gen_loss_tv, gen_loss_f =\\\n    File \"/home/joshua/anaconda3/envs/learn-env/lib/python3.8/site-packages/keras/engine/keras_tensor.py\", line 406, in __iter__\n        raise TypeError(\"Cannot iterate over a scalar.\")\n\n    TypeError: Cannot iterate over a scalar.\n",
     "output_type": "error",
     "traceback": [
      "\u001b[0;31m---------------------------------------------------------------------------\u001b[0m",
      "\u001b[0;31mTypeError\u001b[0m                                 Traceback (most recent call last)",
      "\u001b[0;32m<ipython-input-157-7b56e5fbd63b>\u001b[0m in \u001b[0;36m<module>\u001b[0;34m\u001b[0m\n\u001b[0;32m----> 1\u001b[0;31m \u001b[0mmodel\u001b[0m\u001b[0;34m.\u001b[0m\u001b[0mfit\u001b[0m\u001b[0;34m(\u001b[0m\u001b[0mtrain_dataset\u001b[0m\u001b[0;34m,\u001b[0m \u001b[0mepochs\u001b[0m \u001b[0;34m=\u001b[0m \u001b[0;36m10\u001b[0m\u001b[0;34m,\u001b[0m \u001b[0mvalidation_data\u001b[0m \u001b[0;34m=\u001b[0m \u001b[0mvalidation_dataset\u001b[0m\u001b[0;34m)\u001b[0m\u001b[0;34m\u001b[0m\u001b[0;34m\u001b[0m\u001b[0m\n\u001b[0m",
      "\u001b[0;32m~/anaconda3/envs/learn-env/lib/python3.8/site-packages/keras/utils/traceback_utils.py\u001b[0m in \u001b[0;36merror_handler\u001b[0;34m(*args, **kwargs)\u001b[0m\n\u001b[1;32m     68\u001b[0m             \u001b[0;31m# To get the full stack trace, call:\u001b[0m\u001b[0;34m\u001b[0m\u001b[0;34m\u001b[0m\u001b[0;34m\u001b[0m\u001b[0m\n\u001b[1;32m     69\u001b[0m             \u001b[0;31m# `tf.debugging.disable_traceback_filtering()`\u001b[0m\u001b[0;34m\u001b[0m\u001b[0;34m\u001b[0m\u001b[0;34m\u001b[0m\u001b[0m\n\u001b[0;32m---> 70\u001b[0;31m             \u001b[0;32mraise\u001b[0m \u001b[0me\u001b[0m\u001b[0;34m.\u001b[0m\u001b[0mwith_traceback\u001b[0m\u001b[0;34m(\u001b[0m\u001b[0mfiltered_tb\u001b[0m\u001b[0;34m)\u001b[0m \u001b[0;32mfrom\u001b[0m \u001b[0;32mNone\u001b[0m\u001b[0;34m\u001b[0m\u001b[0;34m\u001b[0m\u001b[0m\n\u001b[0m\u001b[1;32m     71\u001b[0m         \u001b[0;32mfinally\u001b[0m\u001b[0;34m:\u001b[0m\u001b[0;34m\u001b[0m\u001b[0;34m\u001b[0m\u001b[0m\n\u001b[1;32m     72\u001b[0m             \u001b[0;32mdel\u001b[0m \u001b[0mfiltered_tb\u001b[0m\u001b[0;34m\u001b[0m\u001b[0;34m\u001b[0m\u001b[0m\n",
      "\u001b[0;32m~/anaconda3/envs/learn-env/lib/python3.8/site-packages/keras/engine/training.py\u001b[0m in \u001b[0;36mtf__train_function\u001b[0;34m(iterator)\u001b[0m\n\u001b[1;32m     13\u001b[0m                 \u001b[0;32mtry\u001b[0m\u001b[0;34m:\u001b[0m\u001b[0;34m\u001b[0m\u001b[0;34m\u001b[0m\u001b[0m\n\u001b[1;32m     14\u001b[0m                     \u001b[0mdo_return\u001b[0m \u001b[0;34m=\u001b[0m \u001b[0;32mTrue\u001b[0m\u001b[0;34m\u001b[0m\u001b[0;34m\u001b[0m\u001b[0m\n\u001b[0;32m---> 15\u001b[0;31m                     \u001b[0mretval_\u001b[0m \u001b[0;34m=\u001b[0m \u001b[0mag__\u001b[0m\u001b[0;34m.\u001b[0m\u001b[0mconverted_call\u001b[0m\u001b[0;34m(\u001b[0m\u001b[0mag__\u001b[0m\u001b[0;34m.\u001b[0m\u001b[0mld\u001b[0m\u001b[0;34m(\u001b[0m\u001b[0mstep_function\u001b[0m\u001b[0;34m)\u001b[0m\u001b[0;34m,\u001b[0m \u001b[0;34m(\u001b[0m\u001b[0mag__\u001b[0m\u001b[0;34m.\u001b[0m\u001b[0mld\u001b[0m\u001b[0;34m(\u001b[0m\u001b[0mself\u001b[0m\u001b[0;34m)\u001b[0m\u001b[0;34m,\u001b[0m \u001b[0mag__\u001b[0m\u001b[0;34m.\u001b[0m\u001b[0mld\u001b[0m\u001b[0;34m(\u001b[0m\u001b[0miterator\u001b[0m\u001b[0;34m)\u001b[0m\u001b[0;34m)\u001b[0m\u001b[0;34m,\u001b[0m \u001b[0;32mNone\u001b[0m\u001b[0;34m,\u001b[0m \u001b[0mfscope\u001b[0m\u001b[0;34m)\u001b[0m\u001b[0;34m\u001b[0m\u001b[0;34m\u001b[0m\u001b[0m\n\u001b[0m\u001b[1;32m     16\u001b[0m                 \u001b[0;32mexcept\u001b[0m\u001b[0;34m:\u001b[0m\u001b[0;34m\u001b[0m\u001b[0;34m\u001b[0m\u001b[0m\n\u001b[1;32m     17\u001b[0m                     \u001b[0mdo_return\u001b[0m \u001b[0;34m=\u001b[0m \u001b[0;32mFalse\u001b[0m\u001b[0;34m\u001b[0m\u001b[0;34m\u001b[0m\u001b[0m\n",
      "\u001b[0;32m<ipython-input-153-6de2bcc5c56f>\u001b[0m in \u001b[0;36mtrain_step\u001b[0;34m(self, pair)\u001b[0m\n\u001b[1;32m     79\u001b[0m             \u001b[0mself\u001b[0m\u001b[0;34m.\u001b[0m\u001b[0mg_loss\u001b[0m\u001b[0;34m.\u001b[0m\u001b[0mpredict_fake\u001b[0m \u001b[0;34m=\u001b[0m \u001b[0mdisc_generated_output\u001b[0m\u001b[0;34m\u001b[0m\u001b[0;34m\u001b[0m\u001b[0m\n\u001b[1;32m     80\u001b[0m \u001b[0;34m\u001b[0m\u001b[0m\n\u001b[0;32m---> 81\u001b[0;31m             \u001b[0mgen_total_loss\u001b[0m\u001b[0;34m,\u001b[0m \u001b[0mgen_loss_GAN\u001b[0m\u001b[0;34m,\u001b[0m \u001b[0mgen_loss_L1\u001b[0m\u001b[0;34m,\u001b[0m \u001b[0mgen_loss_tv\u001b[0m\u001b[0;34m,\u001b[0m \u001b[0mgen_loss_f\u001b[0m \u001b[0;34m=\u001b[0m\u001b[0;31m\\\u001b[0m\u001b[0;34m\u001b[0m\u001b[0;34m\u001b[0m\u001b[0m\n\u001b[0m\u001b[1;32m     82\u001b[0m                                 \u001b[0mself\u001b[0m\u001b[0;34m.\u001b[0m\u001b[0mg_loss\u001b[0m\u001b[0;34m(\u001b[0m\u001b[0mtarget\u001b[0m\u001b[0;34m,\u001b[0m \u001b[0mgen_output\u001b[0m\u001b[0;34m)\u001b[0m\u001b[0;34m\u001b[0m\u001b[0;34m\u001b[0m\u001b[0m\n\u001b[1;32m     83\u001b[0m             \u001b[0mdisc_loss\u001b[0m \u001b[0;34m=\u001b[0m \u001b[0mself\u001b[0m\u001b[0;34m.\u001b[0m\u001b[0md_loss\u001b[0m\u001b[0;34m(\u001b[0m\u001b[0mdisc_real_output\u001b[0m\u001b[0;34m,\u001b[0m \u001b[0mdisc_generated_output\u001b[0m\u001b[0;34m)\u001b[0m\u001b[0;34m\u001b[0m\u001b[0;34m\u001b[0m\u001b[0m\n",
      "\u001b[0;31mTypeError\u001b[0m: in user code:\n\n    File \"/home/joshua/anaconda3/envs/learn-env/lib/python3.8/site-packages/keras/engine/training.py\", line 1249, in train_function  *\n        return step_function(self, iterator)\n    File \"/home/joshua/anaconda3/envs/learn-env/lib/python3.8/site-packages/keras/engine/training.py\", line 1233, in step_function  **\n        outputs = model.distribute_strategy.run(run_step, args=(data,))\n    File \"/home/joshua/anaconda3/envs/learn-env/lib/python3.8/site-packages/keras/engine/training.py\", line 1222, in run_step  **\n        outputs = model.train_step(data)\n    File \"<ipython-input-153-6de2bcc5c56f>\", line 81, in train_step\n        gen_total_loss, gen_loss_GAN, gen_loss_L1, gen_loss_tv, gen_loss_f =\\\n    File \"/home/joshua/anaconda3/envs/learn-env/lib/python3.8/site-packages/keras/engine/keras_tensor.py\", line 406, in __iter__\n        raise TypeError(\"Cannot iterate over a scalar.\")\n\n    TypeError: Cannot iterate over a scalar.\n"
     ]
    }
   ],
   "source": [
    "model.fit(train_dataset, epochs = 10, validation_data = validation_dataset)"
   ]
  },
  {
   "cell_type": "code",
   "execution_count": 153,
   "id": "a29fe3e3",
   "metadata": {},
   "outputs": [],
   "source": [
    "def sum_tv_loss(image):\n",
    "    loss_y = tf.nn.l2_loss(image[:, 1:, :, :] - image[:, :-1, :, :])\n",
    "    loss_x = tf.nn.l2_loss(image[:, :, 1:, :] - image[:, :, :-1, :])\n",
    "    loss = 2 * (loss_y + loss_x)\n",
    "    loss = tf.cast(loss, tf.float32)\n",
    "    return loss\n",
    "\n",
    "def feature_loss(image, vgg):\n",
    "    vgg.build(image)\n",
    "    output = vgg.get_layer('block3_conv3').output\n",
    "#     input_tensor = tf.keras.Input(shape = (56, 56, 256))\n",
    "#     new_model = tf.keras.Model(inputs = input_tensor, outputs = conv_layer(input_tensor))\n",
    "#     output = new_model(image)\n",
    "    \n",
    "    return output\n",
    "\n",
    "def discriminator_loss(predict_real, predict_fake):\n",
    "    return tf.reduce_mean(-(tf.log(predict_real + 1e-12) + tf.log(1 - predict_fake + 1e-12)))\n",
    "\n",
    "def generator_loss(targets, outputs, predict_fake, net1, net2):\n",
    "    gen_loss_GAN = -tf.reduce_mean(predict_fake)\n",
    "    gen_loss_L1 = tf.reduce_mean(tf.abs(targets - outputs))\n",
    "    gen_loss_tv = tf.reduce_mean(tf.sqrt(tf.nn.l2_loss(sum_tv_loss(outputs))))\n",
    "    gen_loss_f = tf.reduce_mean(tf.sqrt(tf.nn.l2_loss(feature_loss(targets,net1) - feature_loss(outputs,net2))))\n",
    "    gen_total_loss = gen_loss_GAN + (gen_loss_L1 * 10) + (gen_loss_tv * 1e-5) + (gen_loss_f * 1e-4)\n",
    "    \n",
    "    return gen_total_loss, gen_loss_GAN, gen_loss_L1, gen_loss_tv, gen_loss_f\n",
    "\n",
    "class discrim_loss(tf.keras.losses.Loss):\n",
    "    def __init__(self):\n",
    "        super().__init__()\n",
    "        \n",
    "    def call(self, y_true, y_pred):\n",
    "        return descriminator_loss(y_true, y_pred)\n",
    "    \n",
    "class gen_loss(tf.keras.losses.Loss):\n",
    "    def __init__(self, predict_fake = None, net1 = None, net2 = None):\n",
    "        super().__init__()\n",
    "        self.predict_fake = predict_fake\n",
    "        self.net1 = net1\n",
    "        self.net2 = net2\n",
    "\n",
    "    def call(self, y_true, y_pred):\n",
    "        return generator_loss(y_true, y_pred, self.predict_fake, self.net1, self.net2)\n",
    "    \n",
    "class autopainter(tf.keras.Model):\n",
    "    \n",
    "    def __init__(self, discriminator, generator, net1, net2):\n",
    "        super(autopainter, self).__init__()\n",
    "        self.discriminator = discriminator\n",
    "        self.generator = generator\n",
    "        self.gen_loss_tracker = keras.metrics.Mean(name=\"generator_loss\")\n",
    "        self.disc_loss_tracker = keras.metrics.Mean(name=\"discriminator_loss\")\n",
    "        self.net1 = net1\n",
    "        self.net2 = net2\n",
    "    \n",
    "    @property\n",
    "    def metrics(self):\n",
    "        return [self.gen_loss_tracker, self.disc_loss_tracker]\n",
    "    \n",
    "    def compile(self, d_optimizer, g_optimizer):\n",
    "        super(autopainter, self).compile()\n",
    "        self.d_optimizer = d_optimizer\n",
    "        self.g_optimizer = g_optimizer\n",
    "        self.d_loss = discrim_loss()\n",
    "        self.g_loss = gen_loss(predict_fake = None, net1 = self.net1, net2 = self.net2)\n",
    "        self.summary_writer = create_file_writer('../logs/fit/' + datetime.datetime.now().strftime('%Y%m%d-%H%M%S'))\n",
    "        \n",
    "    def train_step(self, pair):\n",
    "        sketch = pair[0]\n",
    "        target = pair[1]\n",
    "        \n",
    "        with tf.GradientTape() as gen_tape, tf.GradientTape() as disc_tape:\n",
    "            gen_output = self.generator(sketch, training = True)\n",
    "\n",
    "            disc_real_output = self.discriminator([sketch, target], training = True)\n",
    "            disc_generated_output = self.discriminator([sketch, gen_output], training = True)\n",
    "            \n",
    "            self.g_loss.predict_fake = disc_generated_output\n",
    "\n",
    "            gen_total_loss, gen_loss_GAN, gen_loss_L1, gen_loss_tv, gen_loss_f =\\\n",
    "                                self.g_loss(target, gen_output)\n",
    "            disc_loss = self.d_loss(disc_real_output, disc_generated_output)\n",
    "\n",
    "        generator_gradients = gen_tape.gradient(gen_total_loss,\n",
    "                                              self.generator.trainable_variables)\n",
    "        discriminator_gradients = disc_tape.gradient(disc_loss,\n",
    "                                                   self.discriminator.trainable_variables)\n",
    "\n",
    "        self.g_optimizer.apply_gradients(zip(generator_gradients, self.generator.trainable_variables))\n",
    "        self.d_optimizer.apply_gradients(zip(discriminator_gradients, self.discriminator.trainable_variables))\n",
    "\n",
    "        with self.summary_writer.as_default():\n",
    "            scalar('gen_total_loss', gen_total_loss)\n",
    "#                    , step = step // 1000)\n",
    "            scalar('gen_gan_loss', gen_loss_GAN)\n",
    "#                    , step = step // 1000)\n",
    "            scalar('gen_l1_loss', gen_loss_L1)\n",
    "#                    , step = step // 1000)\n",
    "            scalar('gen_tv_loss', gen_loss_tv)\n",
    "#                    , step = step // 1000)\n",
    "            scalar('gen_f_loss', gen_loss_f)\n",
    "#                    , step = step // 1000)\n",
    "            scalar('disc_loss', disc_loss)\n",
    "#                    , step = step // 1000)"
   ]
  },
  {
   "cell_type": "code",
   "execution_count": null,
   "id": "a92ad12b",
   "metadata": {},
   "outputs": [],
   "source": []
  },
  {
   "cell_type": "code",
   "execution_count": null,
   "id": "c5d91399",
   "metadata": {},
   "outputs": [],
   "source": []
  },
  {
   "cell_type": "markdown",
   "id": "ebc2e605",
   "metadata": {},
   "source": [
    "# Checkpointing and Saving"
   ]
  },
  {
   "cell_type": "code",
   "execution_count": null,
   "id": "524e702b",
   "metadata": {},
   "outputs": [],
   "source": [
    "checkpoint_dir = '../training_checkpoints'\n",
    "checkpoint_prefix = os.path.join(checkpoint_dir, \"ckpt\")\n",
    "checkpoint = tf.train.Checkpoint(generator_optimizer = generator_optimizer,\n",
    "                                 discriminator_optimizer = discriminator_optimizer,\n",
    "                                 generator = generator,\n",
    "                                 discriminator = discriminator,\n",
    "                                 net1 = net1,\n",
    "                                 net2 = net2)"
   ]
  },
  {
   "cell_type": "code",
   "execution_count": null,
   "id": "9634a716",
   "metadata": {},
   "outputs": [],
   "source": []
  },
  {
   "cell_type": "code",
   "execution_count": null,
   "id": "7a0843f2",
   "metadata": {},
   "outputs": [],
   "source": []
  },
  {
   "cell_type": "code",
   "execution_count": null,
   "id": "89085ddc",
   "metadata": {},
   "outputs": [],
   "source": [
    "def generate_and_save_images(model, epoch, test_input):\n",
    "  # Notice `training` is set to False.\n",
    "  # This is so all layers run in inference mode (batchnorm).\n",
    "    predictions = model(test_input, training=False)\n",
    "\n",
    "    fig = plt.figure(figsize=(4, 4))\n",
    "\n",
    "    for i in range(predictions.shape[0]):\n",
    "        plt.subplot(4, 4, i+1)\n",
    "        plt.imshow(predictions[i, :, :, 0] * 127.5 + 127.5, cmap='gray')\n",
    "        plt.axis('off')\n",
    "\n",
    "    plt.savefig('image_at_epoch_{:04d}.png'.format(epoch))\n",
    "    plt.show()"
   ]
  },
  {
   "cell_type": "code",
   "execution_count": null,
   "id": "18fd8a8b",
   "metadata": {},
   "outputs": [],
   "source": []
  },
  {
   "cell_type": "code",
   "execution_count": null,
   "id": "88c658f9",
   "metadata": {},
   "outputs": [],
   "source": []
  },
  {
   "cell_type": "code",
   "execution_count": null,
   "id": "9995b1c8",
   "metadata": {},
   "outputs": [],
   "source": []
  },
  {
   "cell_type": "code",
   "execution_count": null,
   "id": "daa39214",
   "metadata": {},
   "outputs": [],
   "source": [
    "# def conv(batch_input, out_channels, stride):\n",
    "#     with tf.variable_scope(\"conv\"):\n",
    "#         in_channels = batch_input.get_shape()[3]\n",
    "#         filter = tf.get_variable(\"filter\", [4, 4, in_channels, out_channels], dtype=tf.float32,\n",
    "#                                  initializer=tf.random_normal_initializer(0, 0.02))\n",
    "#         # [batch, in_height, in_width, in_channels], [filter_width, filter_height, in_channels, out_channels]\n",
    "#         #     => [batch, out_height, out_width, out_channels]\n",
    "#         padded_input = tf.pad(batch_input, [[0, 0], [1, 1], [1, 1], [0, 0]], mode=\"CONSTANT\")\n",
    "#         conv = tf.nn.conv2d(padded_input, filter, [1, stride, stride, 1], padding=\"VALID\")\n",
    "#         return conv"
   ]
  },
  {
   "cell_type": "code",
   "execution_count": null,
   "id": "dcb88389",
   "metadata": {},
   "outputs": [],
   "source": []
  },
  {
   "cell_type": "code",
   "execution_count": null,
   "id": "8a8cf1b4",
   "metadata": {},
   "outputs": [],
   "source": []
  },
  {
   "cell_type": "code",
   "execution_count": null,
   "id": "fe3dab4f",
   "metadata": {},
   "outputs": [],
   "source": []
  },
  {
   "cell_type": "code",
   "execution_count": null,
   "id": "484c08c4",
   "metadata": {},
   "outputs": [],
   "source": [
    "# def deconv(batch_input, out_channels):\n",
    "#     with tf.variable_scope(\"deconv\"):\n",
    "#         batch, in_height, in_width, in_channels = [int(d) for d in batch_input.get_shape()]\n",
    "#         filter = tf.get_variable(\"filter\", [4, 4, out_channels, in_channels], dtype=tf.float32,\n",
    "#                                  initializer=tf.random_normal_initializer(0, 0.02))\n",
    "#         # [batch, in_height, in_width, in_channels], [filter_width, filter_height, out_channels, in_channels]\n",
    "#         #     => [batch, out_height, out_width, out_channels]\n",
    "#         conv = tf.nn.conv2d_transpose(batch_input, filter, [batch, in_height * 2, in_width * 2, out_channels],\n",
    "#                                       [1, 2, 2, 1], padding=\"SAME\")\n",
    "#         return conv"
   ]
  },
  {
   "cell_type": "code",
   "execution_count": null,
   "id": "9c0fc6e0",
   "metadata": {},
   "outputs": [],
   "source": []
  },
  {
   "cell_type": "code",
   "execution_count": null,
   "id": "06c81f0e",
   "metadata": {},
   "outputs": [],
   "source": []
  },
  {
   "cell_type": "code",
   "execution_count": null,
   "id": "c956ebca",
   "metadata": {},
   "outputs": [],
   "source": []
  },
  {
   "cell_type": "code",
   "execution_count": null,
   "id": "11002812",
   "metadata": {},
   "outputs": [],
   "source": []
  }
 ],
 "metadata": {
  "kernelspec": {
   "display_name": "Python (learn-env)",
   "language": "python",
   "name": "learn-env"
  },
  "language_info": {
   "codemirror_mode": {
    "name": "ipython",
    "version": 3
   },
   "file_extension": ".py",
   "mimetype": "text/x-python",
   "name": "python",
   "nbconvert_exporter": "python",
   "pygments_lexer": "ipython3",
   "version": "3.8.5"
  }
 },
 "nbformat": 4,
 "nbformat_minor": 5
}
